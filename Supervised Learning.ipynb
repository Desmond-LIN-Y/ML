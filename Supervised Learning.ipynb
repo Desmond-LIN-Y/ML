{
 "cells": [
  {
   "cell_type": "markdown",
   "id": "2c097389",
   "metadata": {},
   "source": [
    "# Supervised Learning"
   ]
  },
  {
   "cell_type": "markdown",
   "id": "9bf36e94",
   "metadata": {},
   "source": [
    "Learning is a process in which for a specified model, we feed in large amount of data with features and labels, and the algorithms will calculate the parameters in the model"
   ]
  },
  {
   "cell_type": "markdown",
   "id": "a3f1f920",
   "metadata": {},
   "source": [
    "## Logistic Regression"
   ]
  },
  {
   "cell_type": "markdown",
   "id": "ee4286bb",
   "metadata": {},
   "source": [
    "One of the simplest learning process. Inner product of feature vectors and weight vectors is sent to sigmoid function, giving binary result.\n",
    "\n",
    "Calculate Weights, so that loss is minimum"
   ]
  },
  {
   "cell_type": "markdown",
   "id": "e0b38aeb",
   "metadata": {},
   "source": [
    "## Neural Network"
   ]
  },
  {
   "cell_type": "markdown",
   "id": "108de31b",
   "metadata": {},
   "source": [
    "Repeated Logistic Regression on latent features(filters) instead of on raw data. More effective to identify non-linear decision boundary"
   ]
  },
  {
   "cell_type": "markdown",
   "id": "fa48ad15",
   "metadata": {},
   "source": [
    "## Deep Learning"
   ]
  },
  {
   "cell_type": "markdown",
   "id": "29889b53",
   "metadata": {},
   "source": [
    "Multiple layers of latent layers. The bottom layers might be able to transfer learning"
   ]
  },
  {
   "cell_type": "markdown",
   "id": "7164c754",
   "metadata": {},
   "source": [
    "## Convolution"
   ]
  },
  {
   "cell_type": "markdown",
   "id": "9cc6f8b6",
   "metadata": {},
   "source": [
    "Filters to produce feature maps, calculate base level motifs, to minimise loss\n",
    "Transfer learning also possible"
   ]
  },
  {
   "cell_type": "markdown",
   "id": "e9506cac",
   "metadata": {},
   "source": []
  },
  {
   "cell_type": "code",
   "execution_count": null,
   "id": "018c6d38",
   "metadata": {},
   "outputs": [],
   "source": []
  }
 ],
 "metadata": {
  "kernelspec": {
   "display_name": "Python 3",
   "language": "python",
   "name": "python3"
  },
  "language_info": {
   "codemirror_mode": {
    "name": "ipython",
    "version": 3
   },
   "file_extension": ".py",
   "mimetype": "text/x-python",
   "name": "python",
   "nbconvert_exporter": "python",
   "pygments_lexer": "ipython3",
   "version": "3.6.13"
  }
 },
 "nbformat": 4,
 "nbformat_minor": 5
}
